{
 "cells": [
  {
   "cell_type": "code",
   "execution_count": 1,
   "metadata": {},
   "outputs": [],
   "source": [
    "import torch\n",
    "import torch.nn as nn\n",
    "import numpy as np"
   ]
  },
  {
   "cell_type": "code",
   "execution_count": null,
   "metadata": {},
   "outputs": [
    {
     "ename": "NameError",
     "evalue": "name 'torch' is not defined",
     "output_type": "error",
     "traceback": [
      "\u001b[1;31m---------------------------------------------------------------------------\u001b[0m",
      "\u001b[1;31mNameError\u001b[0m                                 Traceback (most recent call last)",
      "Cell \u001b[1;32mIn[1], line 8\u001b[0m\n\u001b[0;32m      4\u001b[0m     x_sum \u001b[38;5;241m=\u001b[39m torch\u001b[38;5;241m.\u001b[39msum(x_exp)\n\u001b[0;32m      5\u001b[0m     \u001b[38;5;28;01mreturn\u001b[39;00m x_exp \u001b[38;5;241m/\u001b[39m x_sum\n\u001b[1;32m----> 8\u001b[0m \u001b[38;5;28minput\u001b[39m \u001b[38;5;241m=\u001b[39m \u001b[43mtorch\u001b[49m\u001b[38;5;241m.\u001b[39mtensor(\n\u001b[0;32m      9\u001b[0m \n\u001b[0;32m     10\u001b[0m \n\u001b[0;32m     11\u001b[0m \n\u001b[0;32m     12\u001b[0m     \n\u001b[0;32m     13\u001b[0m     [\n\u001b[0;32m     14\u001b[0m         [\u001b[38;5;241m1.0\u001b[39m, \u001b[38;5;241m2\u001b[39m, \u001b[38;5;241m3\u001b[39m],\n\u001b[0;32m     15\u001b[0m         [\u001b[38;5;241m1.0\u001b[39m, \u001b[38;5;241m2\u001b[39m, \u001b[38;5;241m3\u001b[39m]\n\u001b[0;32m     16\u001b[0m     ]\n\u001b[0;32m     17\u001b[0m )\n\u001b[0;32m     19\u001b[0m weights \u001b[38;5;241m=\u001b[39m torch\u001b[38;5;241m.\u001b[39mtensor([\n\u001b[0;32m     20\u001b[0m     [\u001b[38;5;241m4\u001b[39m, \u001b[38;5;241m5\u001b[39m, \u001b[38;5;241m20.0\u001b[39m],\n\u001b[0;32m     21\u001b[0m     [\u001b[38;5;241m10\u001b[39m, \u001b[38;5;241m8\u001b[39m, \u001b[38;5;241m9\u001b[39m],\n\u001b[0;32m     22\u001b[0m ])\n\u001b[0;32m     23\u001b[0m bias \u001b[38;5;241m=\u001b[39m torch\u001b[38;5;241m.\u001b[39mtensor([\u001b[38;5;241m8.0\u001b[39m, \u001b[38;5;241m30\u001b[39m])\n",
      "\u001b[1;31mNameError\u001b[0m: name 'torch' is not defined"
     ]
    }
   ],
   "source": [
    "def softmax(x):\n",
    "    x_exp = torch.exp(x - x.max())\n",
    "    print(x_exp)\n",
    "    x_sum = torch.sum(x_exp)\n",
    "    return x_exp / x_sum\n",
    "\n",
    "\n",
    "input = torch.tensor(\n",
    "    [\n",
    "        [1.0, 2, 3],\n",
    "        [1.0, 2, 3]\n",
    "    ]\n",
    ")\n",
    "\n",
    "weights = torch.tensor([\n",
    "    [4, 5, 20.0],\n",
    "    [10, 8, 9],\n",
    "])\n",
    "bias = torch.tensor([8.0, 30])\n",
    "\n",
    "out = torch.matmul(weights, input)\n",
    "out += bias\n",
    "out = softmax(out)\n",
    "out"
   ]
  },
  {
   "cell_type": "code",
   "execution_count": 48,
   "metadata": {},
   "outputs": [
    {
     "name": "stderr",
     "output_type": "stream",
     "text": [
      "c:\\Users\\zeyad\\AppData\\Local\\Programs\\Python\\Python312\\Lib\\site-packages\\torch\\nn\\modules\\module.py:1736: UserWarning: Implicit dimension choice for softmax has been deprecated. Change the call to include dim=X as an argument.\n",
      "  return self._call_impl(*args, **kwargs)\n"
     ]
    },
    {
     "data": {
      "text/plain": [
       "tensor([[[1., 1.],\n",
       "         [1., 1.]]], grad_fn=<SoftmaxBackward0>)"
      ]
     },
     "execution_count": 48,
     "metadata": {},
     "output_type": "execute_result"
    }
   ],
   "source": [
    "layer = nn.Sequential(\n",
    "    nn.Linear(3, 2),\n",
    "    nn.BatchNorm1d(2),\n",
    "    nn.Softmax()\n",
    ")\n",
    "\n",
    "layer[0].weight.data = weights\n",
    "layer[0].bias.data = bias\n",
    "\n",
    "\n",
    "layer(input[None])"
   ]
  }
 ],
 "metadata": {
  "kernelspec": {
   "display_name": "Python 3",
   "language": "python",
   "name": "python3"
  },
  "language_info": {
   "codemirror_mode": {
    "name": "ipython",
    "version": 3
   },
   "file_extension": ".py",
   "mimetype": "text/x-python",
   "name": "python",
   "nbconvert_exporter": "python",
   "pygments_lexer": "ipython3",
   "version": "3.12.5"
  }
 },
 "nbformat": 4,
 "nbformat_minor": 2
}
